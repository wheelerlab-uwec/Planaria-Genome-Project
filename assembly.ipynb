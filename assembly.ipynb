{
 "cells": [
  {
   "attachments": {},
   "cell_type": "markdown",
   "metadata": {},
   "source": [
    "### Step 1: Combine Flow Cell Data\n",
    "\n",
    "Concatenate FASTQ files from both flow cells into a single file. Check basic statistics like total read count\n",
    "and file size to confirm successful combination."
   ]
  },
  {
   "cell_type": "code",
   "execution_count": 1,
   "metadata": {},
   "outputs": [
    {
     "name": "stdout",
     "output_type": "stream",
     "text": [
      "Starting subsampling at Thu Oct  9 17:28:54 CDT 2025\n",
      "pigz: abort: missing parameter after -p\n",
      "pigz: abort: missing parameter after -p\n",
      "cat: write error: Broken pipe\n",
      "Finished subsampling at Thu Oct  9 17:28:54 CDT 2025\n",
      "Output file size:\n",
      "-rw-r--r-- 1 willetse0745 SFU_Users 0 Oct  9 17:24 planaria_test_subset.fastq.gz\n",
      "Number of reads in output:\n",
      "\n",
      "gzip: planaria_test_subset.fastq.gz: unexpected end of file\n",
      "0\n"
     ]
    }
   ],
   "source": [
    "!cd reads && sh sample_reads.sh"
   ]
  },
  {
   "attachments": {},
   "cell_type": "markdown",
   "metadata": {},
   "source": [
    "Writes 1 million subsampled reads to `/data/groups/wheelenj/sequencing/20250916_M009242/planaria_test_subset.fastq.gz`"
   ]
  },
  {
   "attachments": {},
   "cell_type": "markdown",
   "metadata": {},
   "source": [
    "### Step 2: Initial Quality Assessment\n",
    "\n",
    "Run NanoPlot on the combined dataset to assess read length distribution, quality scores, and overall data\n",
    "characteristics. Optionally check for adapter contamination using Porechop."
   ]
  },
  {
   "cell_type": "code",
   "execution_count": 8,
   "metadata": {},
   "outputs": [
    {
     "name": "stdout",
     "output_type": "stream",
     "text": [
      "mkdir: cannot create directory ‘fastq_planaria’: File exists\n",
      "mkdir: cannot create directory ‘fastq_planaria/qc’: File exists\n",
      "WARNING:root:Plotly could not fetch or find Chrome automatically. Static exports may fail unless BROWSER_PATH is set. Details: \n",
      "This command requires Kaleido v1.0.0 or greater.\n",
      "Install it using `pip install 'kaleido>=1.0.0'` or `pip install 'plotly[kaleido]'`.\"\n",
      "\n"
     ]
    }
   ],
   "source": [
    "!mkdir fastq_planaria\n",
    "!mkdir fastq_planaria/qc\n",
    "!NanoPlot --fastq /data/groups/wheelenj/sequencing/20250916_M009242/planaria_test_subset.fastq.gz -o fastq_planaria/qc"
   ]
  },
  {
   "cell_type": "code",
   "execution_count": 10,
   "metadata": {},
   "outputs": [
    {
     "name": "stdout",
     "output_type": "stream",
     "text": [
      "\n",
      "\u001b[91m///\u001b[0m \u001b]8;id=53099;https://multiqc.info\u001b\\\u001b[1mMultiQC\u001b[0m\u001b]8;;\u001b\\ 🔍 \u001b[2mv1.29\u001b[0m\n",
      "\n",
      "\u001b[34m     version_check\u001b[0m | \u001b[33mMultiQC Version v1.31 now available!\u001b[0m\n",
      "\u001b[34m       file_search\u001b[0m | Search path: /data/users/willetse0745/Planaria-Genome-Project/fastq_planaria\n",
      "\u001b[2K         \u001b[34msearching\u001b[0m | \u001b[90m━━━━━━━━━━━━━━━━━━━━━━━━━━━━━━━━━━━━━━━━\u001b[0m \u001b[35m100%\u001b[0m \u001b[32m17/17\u001b[0m  eport.html\u001b[0m\n",
      "\u001b[?25h\u001b[34m          nanostat\u001b[0m | Found 1 reports\n",
      "\u001b[34m     write_results\u001b[0m | Data        : multiqc_data\n",
      "\u001b[34m     write_results\u001b[0m | Report      : multiqc_report.html\n",
      "\u001b[34m           multiqc\u001b[0m | MultiQC complete\n"
     ]
    }
   ],
   "source": [
    "!multiqc fastq_planaria/."
   ]
  },
  {
   "attachments": {},
   "cell_type": "markdown",
   "metadata": {},
   "source": [
    "### Step 3: Read Filtering and Subsampling"
   ]
  },
  {
   "attachments": {},
   "cell_type": "markdown",
   "metadata": {},
   "source": [
    "Use Filtlong to filter reads based on quality and length, targeting 100-150 GB of high-quality data\n",
    "(approximately 50-100x coverage). Filter parameters: minimum length 1000 bp, minimum mean quality 8,\n",
    "keep best 20-25% of reads."
   ]
  },
  {
   "cell_type": "code",
   "execution_count": null,
   "metadata": {},
   "outputs": [],
   "source": []
  }
 ],
 "metadata": {
  "kernelspec": {
   "display_name": "planaria-env",
   "language": "python",
   "name": "python3"
  },
  "language_info": {
   "codemirror_mode": {
    "name": "ipython",
    "version": 3
   },
   "file_extension": ".py",
   "mimetype": "text/x-python",
   "name": "python",
   "nbconvert_exporter": "python",
   "pygments_lexer": "ipython3",
   "version": "3.13.7"
  },
  "orig_nbformat": 4
 },
 "nbformat": 4,
 "nbformat_minor": 2
}
