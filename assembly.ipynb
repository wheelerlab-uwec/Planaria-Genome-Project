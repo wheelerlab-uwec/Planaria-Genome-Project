{
 "cells": [
  {
   "attachments": {},
   "cell_type": "markdown",
   "metadata": {},
   "source": [
    "### Step 1: Combine Flow Cell Data\n",
    "\n",
    "Concatenate FASTQ files from both flow cells into a single file. Check basic statistics like total read count\n",
    "and file size to confirm successful combination."
   ]
  },
  {
   "cell_type": "code",
   "execution_count": 1,
   "metadata": {},
   "outputs": [
    {
     "name": "stdout",
     "output_type": "stream",
     "text": [
      "Starting subsampling at Fri Oct 17 13:15:47 CDT 2025\n",
      "pigz: pigz: abort: missing parameter after -pabort: missing parameter after -p\n",
      "\n",
      "cat: write error: Broken pipe\n",
      "Finished subsampling at Fri Oct 17 13:15:47 CDT 2025\n",
      "Output file size:\n",
      "-rw-r--r-- 1 willetse0745 SFU_Users 0 Oct  9 17:24 planaria_test_subset.fastq.gz\n",
      "Number of reads in output:\n",
      "\n",
      "gzip: planaria_test_subset.fastq.gz: unexpected end of file\n",
      "0\n"
     ]
    }
   ],
   "source": [
    "!cd reads && sh sample_reads.sh"
   ]
  },
  {
   "attachments": {},
   "cell_type": "markdown",
   "metadata": {},
   "source": [
    "Writes 1 million subsampled reads to `/data/groups/wheelenj/sequencing/20250916_M009242/planaria_test_subset.fastq.gz`"
   ]
  },
  {
   "attachments": {},
   "cell_type": "markdown",
   "metadata": {},
   "source": [
    "### Step 2: Initial Quality Assessment\n",
    "\n",
    "Run NanoPlot on the combined dataset to assess read length distribution, quality scores, and overall data\n",
    "characteristics. Optionally check for adapter contamination using Porechop."
   ]
  },
  {
   "cell_type": "code",
   "execution_count": 2,
   "metadata": {},
   "outputs": [
    {
     "name": "stdout",
     "output_type": "stream",
     "text": [
      "mkdir: cannot create directory ‘fastq_planaria’: File exists\n",
      "mkdir: cannot create directory ‘fastq_planaria/qc’: File exists\n",
      "WARNING:root:Plotly could not fetch or find Chrome automatically. Static exports may fail unless BROWSER_PATH is set. Details: \n",
      "This command requires Kaleido v1.0.0 or greater.\n",
      "Install it using `pip install 'kaleido>=1.0.0'` or `pip install 'plotly[kaleido]'`.\"\n",
      "\n"
     ]
    }
   ],
   "source": [
    "!mkdir fastq_planaria\n",
    "!mkdir fastq_planaria/qc\n",
    "!NanoPlot --fastq /data/groups/wheelenj/sequencing/20250916_M009242/planaria_test_subset.fastq.gz -o fastq_planaria/qc"
   ]
  },
  {
   "cell_type": "code",
   "execution_count": 4,
   "metadata": {},
   "outputs": [
    {
     "name": "stdout",
     "output_type": "stream",
     "text": [
      "^C\n"
     ]
    }
   ],
   "source": [
    "!multiqc fastq_planaria/."
   ]
  },
  {
   "attachments": {},
   "cell_type": "markdown",
   "metadata": {},
   "source": [
    "### Step 3: Read Filtering and Subsampling"
   ]
  },
  {
   "attachments": {},
   "cell_type": "markdown",
   "metadata": {},
   "source": [
    "Use Filtlong to filter reads based on quality and length, targeting 100-150 GB of high-quality data\n",
    "(approximately 50-100x coverage). Filter parameters: minimum length 1000 bp, minimum mean quality 8,\n",
    "keep best 20-25% of reads."
   ]
  },
  {
   "cell_type": "code",
   "execution_count": 5,
   "metadata": {},
   "outputs": [
    {
     "name": "stdout",
     "output_type": "stream",
     "text": [
      "\n",
      "Scoring long reads\n",
      "  1,000,000 reads (6,122,479,215 bp)eads (14,224,098 bp)65,036,464 bp)24,402 reads (147,616,755 bp)31,164 reads (187,975,464 bp)53,288 reads (321,771,805 bp)54,443 reads (328,636,749 bp)338,929,413 bp)81,467 reads (493,103,111 bp)88,340 reads (534,047,231 bp)99,333 reads (602,589,618 bp)108,161 reads (656,546,298 bp)705,372,302 bp)807,207,393 bp)133,656 reads (814,066,666 bp)141,893 reads (866,303,240 bp)884,312,746 bp)145,253 reads (887,745,244 bp)961,383,924 bp)1,033,298,822 bp)1,252,943,336 bp)1,300,887,714 bp)1,326,544,524 bp)1,349,658,559 bp)233,334 reads (1,430,139,807 bp)1,513,186,348 bp)250,301 reads (1,535,429,402 bp)255,306 reads (1,566,245,137 bp)288,076 reads (1,766,496,259 bp)307,057 reads (1,882,907,126 bp)1,893,176,769 bp)1,916,298,043 bp)2,157,846,546 bp)359,108 reads (2,202,381,255 bp)2,331,694,961 bp)2,335,120,644 bp)2,360,814,008 bp)387,916 reads (2,377,076,835 bp)389,455 reads (2,386,497,615 bp)399,748 reads (2,448,998,695 bp)2,587,673,997 bp)431,829 reads (2,646,748,256 bp)2,672,417,064 bp)445,442 reads (2,728,923,387 bp)459,977 reads (2,817,097,427 bp)466,090 reads (2,853,927,456 bp)471,117 reads (2,883,857,029 bp)480,968 reads (2,942,916,572 bp)3,047,372,620 bp)3,070,458,273 bp)502,917 reads (3,076,447,796 bp)513,166 reads (3,138,950,140 bp)530,504 reads (3,246,809,472 bp)535,844 reads (3,279,329,319 bp)546,523 reads (3,344,416,954 bp)547,052 reads (3,347,845,866 bp)3,366,684,411 bp)567,786 reads (3,474,587,883 bp)577,340 reads (3,533,673,447 bp)581,302 reads (3,558,492,713 bp)583,503 reads (3,572,189,432 bp)585,589 reads (3,585,016,195 bp)3,680,894,905 bp)3,741,658,326 bp)3,754,487,309 bp)613,858 reads (3,757,915,895 bp)3,784,458,796 bp)631,438 reads (3,865,783,329 bp)646,725 reads (3,959,093,355 bp)3,975,340,135 bp)4,057,509,466 bp)4,096,017,404 bp)684,333 reads (4,190,154,983 bp)688,337 reads (4,214,967,069 bp)4,273,166,151 bp)702,992 reads (4,304,789,521 bp)736,919 reads (4,512,877,461 bp)4,636,899,723 bp)4,692,588,647 bp)767,620 reads (4,699,441,259 bp)4,728,559,813 bp)4,820,149,446 bp)796,866 reads (4,878,373,827 bp)800,193 reads (4,898,922,610 bp)817,003 reads (5,002,517,947 bp)5,054,730,832 bp)5,152,329,967 bp)843,273 reads (5,165,184,804 bp)865,896 reads (5,303,054,335 bp)869,911 reads (5,327,020,276 bp)872,101 reads (5,339,862,409 bp)896,693 reads (5,489,706,954 bp)900,220 reads (5,511,992,674 bp)5,524,832,885 bp)909,849 reads (5,571,059,672 bp)935,476 reads (5,726,868,937 bp)5,801,330,740 bp)973,333 reads (5,958,804,834 bp)986,424 reads (6,040,161,391 bp)\n",
      "\n",
      "Filtering long reads\n",
      "  target: 4,897,983,372 bp\n",
      "  keeping 4,897,987,557 bp\n",
      "\n",
      "Outputting passed long reads\n",
      "\n"
     ]
    }
   ],
   "source": [
    "!mkdir trimmed_fastq\n",
    "!filtlong --min_length 1000 --keep_percent 80 --min_mean_q 8 /data/groups/wheelenj/sequencing/20250916_M009242/planaria_test_subset.fastq.gz | gzip > trimmed_fastq/trimmed_reads.fastq.gz"
   ]
  },
  {
   "attachments": {},
   "cell_type": "markdown",
   "metadata": {},
   "source": [
    "### Step 4: Post-Filtering Quality Control"
   ]
  },
  {
   "attachments": {},
   "cell_type": "markdown",
   "metadata": {},
   "source": [
    "Run NanoPlot on the combined dataset to assess read length distribution, quality scores, and overall data\n",
    "characteristics. Optionally check for adapter contamination using Porechop."
   ]
  },
  {
   "cell_type": "code",
   "execution_count": null,
   "metadata": {},
   "outputs": [],
   "source": [
    "!NanoPlot --fastq trimmed_fastq/trimmed_reads.fastq.gz -o trimmed_fastq/qc --plots kde hex"
   ]
  }
 ],
 "metadata": {
  "kernelspec": {
   "display_name": "planaria-env",
   "language": "python",
   "name": "python3"
  },
  "language_info": {
   "codemirror_mode": {
    "name": "ipython",
    "version": 3
   },
   "file_extension": ".py",
   "mimetype": "text/x-python",
   "name": "python",
   "nbconvert_exporter": "python",
   "pygments_lexer": "ipython3",
   "version": "3.13.7"
  },
  "orig_nbformat": 4
 },
 "nbformat": 4,
 "nbformat_minor": 2
}
